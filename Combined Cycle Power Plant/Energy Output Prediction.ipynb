{
 "cells": [
  {
   "cell_type": "markdown",
   "id": "281584f4",
   "metadata": {},
   "source": [
    "# Energy Output Prediction"
   ]
  },
  {
   "cell_type": "markdown",
   "id": "7a076820",
   "metadata": {},
   "source": [
    "## Introduction"
   ]
  },
  {
   "cell_type": "markdown",
   "id": "b03a7941",
   "metadata": {},
   "source": [
    "A combined cycle power plant (CCPP) is composed of gas turbines (GT), steam turbines (ST) and heat recovery steam generators. Electricity is produced from a combined cycle power plant when hot air-fuel mixture turns the blades on a gas turbine that drives a generator to produce electricity. The exhaust heat (vacuum) from the gas turbines is then used to produce steam to turn steam turbine blades which also drives a generator to produce more electricity. \n",
    "\n",
    "The goal of this project is to accurately predict the energy output of a combined cycled power plant given specific variables. This will help forecast electricity produced when operating under variable load conditions. This can be useful in financial/budget modelling, and also determine if future demand can be met against projected supply.\n"
   ]
  },
  {
   "cell_type": "markdown",
   "id": "24628d15",
   "metadata": {},
   "source": [
    "## Libraries"
   ]
  },
  {
   "cell_type": "code",
   "execution_count": 1,
   "id": "4fed9634",
   "metadata": {},
   "outputs": [],
   "source": [
    "## Libraries\n",
    "import numpy as np\n",
    "import pandas as pd\n",
    "import matplotlib.pyplot as plt\n",
    "import seaborn as sns\n",
    "sns.set()\n",
    "import warnings\n",
    "warnings.filterwarnings(\"ignore\")"
   ]
  },
  {
   "cell_type": "code",
   "execution_count": null,
   "id": "2a4ed136",
   "metadata": {},
   "outputs": [],
   "source": []
  },
  {
   "cell_type": "markdown",
   "id": "1fb535e0",
   "metadata": {},
   "source": [
    "## Data"
   ]
  },
  {
   "cell_type": "markdown",
   "id": "392eca89",
   "metadata": {},
   "source": [
    "The data used in this project was obtained from University of California Irvine Machine Learning Repository. It contains 9568 data points collected from a Combined Cycle Power Plant over 6 years (2006-2011), when the power plant was set to work with full load. Features consist of hourly average ambient variables Temperature (T), Ambient Pressure (AP), Relative Humidity (RH) and Exhaust Vacuum (V) to predict the net hourly electrical energy output (PE) of the plant.\n"
   ]
  },
  {
   "cell_type": "code",
   "execution_count": 2,
   "id": "f93ad5ae",
   "metadata": {},
   "outputs": [
    {
     "data": {
      "text/html": [
       "<div>\n",
       "<style scoped>\n",
       "    .dataframe tbody tr th:only-of-type {\n",
       "        vertical-align: middle;\n",
       "    }\n",
       "\n",
       "    .dataframe tbody tr th {\n",
       "        vertical-align: top;\n",
       "    }\n",
       "\n",
       "    .dataframe thead th {\n",
       "        text-align: right;\n",
       "    }\n",
       "</style>\n",
       "<table border=\"1\" class=\"dataframe\">\n",
       "  <thead>\n",
       "    <tr style=\"text-align: right;\">\n",
       "      <th></th>\n",
       "      <th>AT</th>\n",
       "      <th>V</th>\n",
       "      <th>AP</th>\n",
       "      <th>RH</th>\n",
       "      <th>PE</th>\n",
       "    </tr>\n",
       "  </thead>\n",
       "  <tbody>\n",
       "    <tr>\n",
       "      <th>0</th>\n",
       "      <td>14.96</td>\n",
       "      <td>41.76</td>\n",
       "      <td>1024.07</td>\n",
       "      <td>73.17</td>\n",
       "      <td>463.26</td>\n",
       "    </tr>\n",
       "    <tr>\n",
       "      <th>1</th>\n",
       "      <td>25.18</td>\n",
       "      <td>62.96</td>\n",
       "      <td>1020.04</td>\n",
       "      <td>59.08</td>\n",
       "      <td>444.37</td>\n",
       "    </tr>\n",
       "    <tr>\n",
       "      <th>2</th>\n",
       "      <td>5.11</td>\n",
       "      <td>39.40</td>\n",
       "      <td>1012.16</td>\n",
       "      <td>92.14</td>\n",
       "      <td>488.56</td>\n",
       "    </tr>\n",
       "    <tr>\n",
       "      <th>3</th>\n",
       "      <td>20.86</td>\n",
       "      <td>57.32</td>\n",
       "      <td>1010.24</td>\n",
       "      <td>76.64</td>\n",
       "      <td>446.48</td>\n",
       "    </tr>\n",
       "    <tr>\n",
       "      <th>4</th>\n",
       "      <td>10.82</td>\n",
       "      <td>37.50</td>\n",
       "      <td>1009.23</td>\n",
       "      <td>96.62</td>\n",
       "      <td>473.90</td>\n",
       "    </tr>\n",
       "  </tbody>\n",
       "</table>\n",
       "</div>"
      ],
      "text/plain": [
       "      AT      V       AP     RH      PE\n",
       "0  14.96  41.76  1024.07  73.17  463.26\n",
       "1  25.18  62.96  1020.04  59.08  444.37\n",
       "2   5.11  39.40  1012.16  92.14  488.56\n",
       "3  20.86  57.32  1010.24  76.64  446.48\n",
       "4  10.82  37.50  1009.23  96.62  473.90"
      ]
     },
     "execution_count": 2,
     "metadata": {},
     "output_type": "execute_result"
    }
   ],
   "source": [
    "# Import data\n",
    "raw_data = pd.read_csv('Energy.csv')\n",
    "raw_data.head()"
   ]
  },
  {
   "cell_type": "code",
   "execution_count": 3,
   "id": "57def795",
   "metadata": {},
   "outputs": [
    {
     "data": {
      "text/plain": [
       "AT    0\n",
       "V     0\n",
       "AP    0\n",
       "RH    0\n",
       "PE    0\n",
       "dtype: int64"
      ]
     },
     "execution_count": 3,
     "metadata": {},
     "output_type": "execute_result"
    }
   ],
   "source": [
    "# Check for missing values\n",
    "raw_data.isnull().sum()"
   ]
  },
  {
   "cell_type": "code",
   "execution_count": 4,
   "id": "017a8ef8",
   "metadata": {},
   "outputs": [
    {
     "data": {
      "text/html": [
       "<div>\n",
       "<style scoped>\n",
       "    .dataframe tbody tr th:only-of-type {\n",
       "        vertical-align: middle;\n",
       "    }\n",
       "\n",
       "    .dataframe tbody tr th {\n",
       "        vertical-align: top;\n",
       "    }\n",
       "\n",
       "    .dataframe thead th {\n",
       "        text-align: right;\n",
       "    }\n",
       "</style>\n",
       "<table border=\"1\" class=\"dataframe\">\n",
       "  <thead>\n",
       "    <tr style=\"text-align: right;\">\n",
       "      <th></th>\n",
       "      <th>AT</th>\n",
       "      <th>V</th>\n",
       "      <th>AP</th>\n",
       "      <th>RH</th>\n",
       "      <th>PE</th>\n",
       "    </tr>\n",
       "  </thead>\n",
       "  <tbody>\n",
       "    <tr>\n",
       "      <th>count</th>\n",
       "      <td>9568.000000</td>\n",
       "      <td>9568.000000</td>\n",
       "      <td>9568.000000</td>\n",
       "      <td>9568.000000</td>\n",
       "      <td>9568.000000</td>\n",
       "    </tr>\n",
       "    <tr>\n",
       "      <th>mean</th>\n",
       "      <td>19.651231</td>\n",
       "      <td>54.305804</td>\n",
       "      <td>1013.259078</td>\n",
       "      <td>73.308978</td>\n",
       "      <td>454.365009</td>\n",
       "    </tr>\n",
       "    <tr>\n",
       "      <th>std</th>\n",
       "      <td>7.452473</td>\n",
       "      <td>12.707893</td>\n",
       "      <td>5.938784</td>\n",
       "      <td>14.600269</td>\n",
       "      <td>17.066995</td>\n",
       "    </tr>\n",
       "    <tr>\n",
       "      <th>min</th>\n",
       "      <td>1.810000</td>\n",
       "      <td>25.360000</td>\n",
       "      <td>992.890000</td>\n",
       "      <td>25.560000</td>\n",
       "      <td>420.260000</td>\n",
       "    </tr>\n",
       "    <tr>\n",
       "      <th>25%</th>\n",
       "      <td>13.510000</td>\n",
       "      <td>41.740000</td>\n",
       "      <td>1009.100000</td>\n",
       "      <td>63.327500</td>\n",
       "      <td>439.750000</td>\n",
       "    </tr>\n",
       "    <tr>\n",
       "      <th>50%</th>\n",
       "      <td>20.345000</td>\n",
       "      <td>52.080000</td>\n",
       "      <td>1012.940000</td>\n",
       "      <td>74.975000</td>\n",
       "      <td>451.550000</td>\n",
       "    </tr>\n",
       "    <tr>\n",
       "      <th>75%</th>\n",
       "      <td>25.720000</td>\n",
       "      <td>66.540000</td>\n",
       "      <td>1017.260000</td>\n",
       "      <td>84.830000</td>\n",
       "      <td>468.430000</td>\n",
       "    </tr>\n",
       "    <tr>\n",
       "      <th>max</th>\n",
       "      <td>37.110000</td>\n",
       "      <td>81.560000</td>\n",
       "      <td>1033.300000</td>\n",
       "      <td>100.160000</td>\n",
       "      <td>495.760000</td>\n",
       "    </tr>\n",
       "  </tbody>\n",
       "</table>\n",
       "</div>"
      ],
      "text/plain": [
       "                AT            V           AP           RH           PE\n",
       "count  9568.000000  9568.000000  9568.000000  9568.000000  9568.000000\n",
       "mean     19.651231    54.305804  1013.259078    73.308978   454.365009\n",
       "std       7.452473    12.707893     5.938784    14.600269    17.066995\n",
       "min       1.810000    25.360000   992.890000    25.560000   420.260000\n",
       "25%      13.510000    41.740000  1009.100000    63.327500   439.750000\n",
       "50%      20.345000    52.080000  1012.940000    74.975000   451.550000\n",
       "75%      25.720000    66.540000  1017.260000    84.830000   468.430000\n",
       "max      37.110000    81.560000  1033.300000   100.160000   495.760000"
      ]
     },
     "execution_count": 4,
     "metadata": {},
     "output_type": "execute_result"
    }
   ],
   "source": [
    "# Description of data\n",
    "raw_data.describe()"
   ]
  },
  {
   "cell_type": "code",
   "execution_count": 5,
   "id": "284ebe55",
   "metadata": {},
   "outputs": [],
   "source": [
    "data = raw_data.copy()"
   ]
  },
  {
   "cell_type": "code",
   "execution_count": null,
   "id": "20d9b2d3",
   "metadata": {},
   "outputs": [],
   "source": []
  },
  {
   "cell_type": "code",
   "execution_count": null,
   "id": "e404563f",
   "metadata": {},
   "outputs": [],
   "source": []
  },
  {
   "cell_type": "markdown",
   "id": "b48bb476",
   "metadata": {},
   "source": [
    "## Exploratory Analysis"
   ]
  },
  {
   "cell_type": "code",
   "execution_count": 6,
   "id": "f8d3e751",
   "metadata": {},
   "outputs": [
    {
     "data": {
      "image/png": "[encoded data removed]",
      "text/plain": [
       "<Figure size 432x288 with 1 Axes>"
      ]
     },
     "metadata": {},
     "output_type": "display_data"
    }
   ],
   "source": [
    "from scipy.stats import norm\n",
    "(avge, std_dev) = norm.fit(data['PE'])\n",
    "plt.figure()\n",
    "sns.distplot(a = data['PE'], hist = True, kde = True, fit = norm)\n",
    "plt.title('Energy Output Distribution vs Normal distribution')\n",
    "plt.xlabel('Energy Output')\n",
    "plt.show()"
   ]
  },
  {
   "cell_type": "markdown",
   "id": "3bce3700",
   "metadata": {},
   "source": [
    "A box plot was used to check whether there are any outliers in the data."
   ]
  },
  {
   "cell_type": "code",
   "execution_count": 7,
   "id": "5cc6aa47",
   "metadata": {},
   "outputs": [
    {
     "data": {
      "text/plain": [
       "<AxesSubplot:xlabel='PE'>"
      ]
     },
     "execution_count": 7,
     "metadata": {},
     "output_type": "execute_result"
    },
    {
     "data": {
      "image/png": "[encoded data removed]",
      "text/plain": [
       "<Figure size 432x288 with 1 Axes>"
      ]
     },
     "metadata": {},
     "output_type": "display_data"
    }
   ],
   "source": [
    "sns.boxplot(data['PE'], orient = 'v')"
   ]
  },
  {
   "cell_type": "markdown",
   "id": "af8ac238",
   "metadata": {},
   "source": [
    "The data was visualised to explore the relationship between the independent variables and the dependent target variable using scatter plots"
   ]
  },
  {
   "cell_type": "code",
   "execution_count": 8,
   "id": "1b6f7387",
   "metadata": {},
   "outputs": [
    {
     "data": {
      "image/png": "[encoded data removed]",
      "text/plain": [
       "<Figure size 432x288 with 1 Axes>"
      ]
     },
     "metadata": {},
     "output_type": "display_data"
    }
   ],
   "source": [
    "# Scatter plot of Ambient Temperature and Energy Output\n",
    "plt.scatter(data['AT'], data['PE'])\n",
    "plt.xlabel('Ambient Temp', fontsize = 15)\n",
    "plt.ylabel('Energy Output', fontsize = 15)\n",
    "plt.show()"
   ]
  },
  {
   "cell_type": "code",
   "execution_count": 9,
   "id": "8c0f6ade",
   "metadata": {},
   "outputs": [
    {
     "data": {
      "image/png": "[encoded data removed]",
      "text/plain": [
       "<Figure size 432x288 with 1 Axes>"
      ]
     },
     "metadata": {},
     "output_type": "display_data"
    }
   ],
   "source": [
    "# Scatter plot of Ambient Pressure and Energy Output\n",
    "plt.scatter(data['AP'], data['PE'])\n",
    "plt.xlabel('Ambient Pressure', fontsize = 15)\n",
    "plt.ylabel('Energy Output', fontsize = 15)\n",
    "plt.show()"
   ]
  },
  {
   "cell_type": "code",
   "execution_count": 10,
   "id": "c092203f",
   "metadata": {},
   "outputs": [
    {
     "data": {
      "image/png": "[encoded data removed]",
      "text/plain": [
       "<Figure size 432x288 with 1 Axes>"
      ]
     },
     "metadata": {},
     "output_type": "display_data"
    }
   ],
   "source": [
    "# Scatter plot of Relative Humidity and Energy Output\n",
    "plt.scatter(data['RH'], data['PE'])\n",
    "plt.xlabel('Relative Humidity', fontsize = 15)\n",
    "plt.ylabel('Energy Output', fontsize = 15)\n",
    "plt.show()"
   ]
  },
  {
   "cell_type": "code",
   "execution_count": 11,
   "id": "5c92062b",
   "metadata": {},
   "outputs": [
    {
     "data": {
      "image/png": "[encoded data removed]",
      "text/plain": [
       "<Figure size 432x288 with 1 Axes>"
      ]
     },
     "metadata": {},
     "output_type": "display_data"
    }
   ],
   "source": [
    "# Scatter plot of Exhaust Vacuum and Energy Output\n",
    "plt.scatter(data['V'], data['PE'])\n",
    "plt.xlabel('Exhaust Vacuum', fontsize = 15)\n",
    "plt.ylabel('Energy Output', fontsize = 15)\n",
    "plt.show()"
   ]
  },
  {
   "cell_type": "code",
   "execution_count": null,
   "id": "f55be2ba",
   "metadata": {},
   "outputs": [],
   "source": []
  },
  {
   "cell_type": "code",
   "execution_count": 12,
   "id": "f5ceabbc",
   "metadata": {},
   "outputs": [
    {
     "data": {
      "image/png": "[encoded data removed]",
      "text/plain": [
       "<Figure size 576x360 with 2 Axes>"
      ]
     },
     "metadata": {},
     "output_type": "display_data"
    }
   ],
   "source": [
    "cor_mat = data.corr()\n",
    "plt.figure(figsize = (8,5))\n",
    "sns.heatmap(cor_mat, annot = True, cmap = \"coolwarm\", linewidth = 2)\n",
    "plt.show()"
   ]
  },
  {
   "cell_type": "markdown",
   "id": "cf4e9e15",
   "metadata": {},
   "source": [
    "It was observed from the correlation matrix that the ambient temperature and temperature were highly correlated. This is expected as the more vacuum from the gas turbine generated as possible, the greater the ambient temperature. No further transformation was performed for the two features/variables.\n"
   ]
  },
  {
   "cell_type": "markdown",
   "id": "812a3dce",
   "metadata": {},
   "source": [
    "## Methodology"
   ]
  },
  {
   "cell_type": "markdown",
   "id": "5f9af73f",
   "metadata": {},
   "source": [
    "Before the data was fed into the models for testing, and evaluation, it was split into inputs and target, then split further into training and testing batches with 80% of the data used for training the model, and 20% for testing the final model. The inputs of the training and testing data were then standardised before the models could be evaluated using the data."
   ]
  },
  {
   "cell_type": "code",
   "execution_count": 13,
   "id": "44aab413",
   "metadata": {},
   "outputs": [],
   "source": [
    "## Data split into features and target\n",
    "inputs = data.drop(['PE'], axis = 1)\n",
    "target = data['PE']"
   ]
  },
  {
   "cell_type": "code",
   "execution_count": 14,
   "id": "c59041b6",
   "metadata": {},
   "outputs": [
    {
     "data": {
      "text/plain": [
       "((9568, 4), (9568,))"
      ]
     },
     "execution_count": 14,
     "metadata": {},
     "output_type": "execute_result"
    }
   ],
   "source": [
    "inputs.shape, target.shape"
   ]
  },
  {
   "cell_type": "code",
   "execution_count": 15,
   "id": "23789471",
   "metadata": {},
   "outputs": [
    {
     "data": {
      "text/html": [
       "<div>\n",
       "<style scoped>\n",
       "    .dataframe tbody tr th:only-of-type {\n",
       "        vertical-align: middle;\n",
       "    }\n",
       "\n",
       "    .dataframe tbody tr th {\n",
       "        vertical-align: top;\n",
       "    }\n",
       "\n",
       "    .dataframe thead th {\n",
       "        text-align: right;\n",
       "    }\n",
       "</style>\n",
       "<table border=\"1\" class=\"dataframe\">\n",
       "  <thead>\n",
       "    <tr style=\"text-align: right;\">\n",
       "      <th></th>\n",
       "      <th>AT</th>\n",
       "      <th>V</th>\n",
       "      <th>AP</th>\n",
       "      <th>RH</th>\n",
       "    </tr>\n",
       "  </thead>\n",
       "  <tbody>\n",
       "    <tr>\n",
       "      <th>0</th>\n",
       "      <td>14.96</td>\n",
       "      <td>41.76</td>\n",
       "      <td>1024.07</td>\n",
       "      <td>73.17</td>\n",
       "    </tr>\n",
       "    <tr>\n",
       "      <th>1</th>\n",
       "      <td>25.18</td>\n",
       "      <td>62.96</td>\n",
       "      <td>1020.04</td>\n",
       "      <td>59.08</td>\n",
       "    </tr>\n",
       "    <tr>\n",
       "      <th>2</th>\n",
       "      <td>5.11</td>\n",
       "      <td>39.40</td>\n",
       "      <td>1012.16</td>\n",
       "      <td>92.14</td>\n",
       "    </tr>\n",
       "    <tr>\n",
       "      <th>3</th>\n",
       "      <td>20.86</td>\n",
       "      <td>57.32</td>\n",
       "      <td>1010.24</td>\n",
       "      <td>76.64</td>\n",
       "    </tr>\n",
       "    <tr>\n",
       "      <th>4</th>\n",
       "      <td>10.82</td>\n",
       "      <td>37.50</td>\n",
       "      <td>1009.23</td>\n",
       "      <td>96.62</td>\n",
       "    </tr>\n",
       "    <tr>\n",
       "      <th>...</th>\n",
       "      <td>...</td>\n",
       "      <td>...</td>\n",
       "      <td>...</td>\n",
       "      <td>...</td>\n",
       "    </tr>\n",
       "    <tr>\n",
       "      <th>9563</th>\n",
       "      <td>16.65</td>\n",
       "      <td>49.69</td>\n",
       "      <td>1014.01</td>\n",
       "      <td>91.00</td>\n",
       "    </tr>\n",
       "    <tr>\n",
       "      <th>9564</th>\n",
       "      <td>13.19</td>\n",
       "      <td>39.18</td>\n",
       "      <td>1023.67</td>\n",
       "      <td>66.78</td>\n",
       "    </tr>\n",
       "    <tr>\n",
       "      <th>9565</th>\n",
       "      <td>31.32</td>\n",
       "      <td>74.33</td>\n",
       "      <td>1012.92</td>\n",
       "      <td>36.48</td>\n",
       "    </tr>\n",
       "    <tr>\n",
       "      <th>9566</th>\n",
       "      <td>24.48</td>\n",
       "      <td>69.45</td>\n",
       "      <td>1013.86</td>\n",
       "      <td>62.39</td>\n",
       "    </tr>\n",
       "    <tr>\n",
       "      <th>9567</th>\n",
       "      <td>21.60</td>\n",
       "      <td>62.52</td>\n",
       "      <td>1017.23</td>\n",
       "      <td>67.87</td>\n",
       "    </tr>\n",
       "  </tbody>\n",
       "</table>\n",
       "<p>9568 rows × 4 columns</p>\n",
       "</div>"
      ],
      "text/plain": [
       "         AT      V       AP     RH\n",
       "0     14.96  41.76  1024.07  73.17\n",
       "1     25.18  62.96  1020.04  59.08\n",
       "2      5.11  39.40  1012.16  92.14\n",
       "3     20.86  57.32  1010.24  76.64\n",
       "4     10.82  37.50  1009.23  96.62\n",
       "...     ...    ...      ...    ...\n",
       "9563  16.65  49.69  1014.01  91.00\n",
       "9564  13.19  39.18  1023.67  66.78\n",
       "9565  31.32  74.33  1012.92  36.48\n",
       "9566  24.48  69.45  1013.86  62.39\n",
       "9567  21.60  62.52  1017.23  67.87\n",
       "\n",
       "[9568 rows x 4 columns]"
      ]
     },
     "execution_count": 15,
     "metadata": {},
     "output_type": "execute_result"
    }
   ],
   "source": [
    "inputs"
   ]
  },
  {
   "cell_type": "code",
   "execution_count": null,
   "id": "61700703",
   "metadata": {},
   "outputs": [],
   "source": []
  },
  {
   "cell_type": "code",
   "execution_count": 16,
   "id": "353feed4",
   "metadata": {},
   "outputs": [],
   "source": [
    "# Split data into training and test set\n",
    "from sklearn.model_selection import train_test_split\n",
    "x_train, x_test, y_train, y_test = train_test_split(inputs, target, test_size = 0.2, random_state = 42)"
   ]
  },
  {
   "cell_type": "code",
   "execution_count": null,
   "id": "09a5df59",
   "metadata": {},
   "outputs": [],
   "source": []
  },
  {
   "cell_type": "code",
   "execution_count": 17,
   "id": "1a1aec7d",
   "metadata": {},
   "outputs": [],
   "source": [
    "# Scale features\n",
    "from sklearn.preprocessing import StandardScaler\n",
    "scaler = StandardScaler()"
   ]
  },
  {
   "cell_type": "code",
   "execution_count": 18,
   "id": "0334fc42",
   "metadata": {},
   "outputs": [],
   "source": [
    "x_train = scaler.fit_transform(x_train)\n",
    "x_test = scaler.transform(x_test)"
   ]
  },
  {
   "cell_type": "code",
   "execution_count": null,
   "id": "a4b57e0b",
   "metadata": {},
   "outputs": [],
   "source": []
  },
  {
   "cell_type": "markdown",
   "id": "7aa7be39",
   "metadata": {},
   "source": [
    "## Model Selection"
   ]
  },
  {
   "cell_type": "markdown",
   "id": "b08dc546",
   "metadata": {},
   "source": [
    "Four models were evaluated - Multiple Linear Regression, Polynomial Regression,Support Vector Regression, and  Random Forest Regression"
   ]
  },
  {
   "cell_type": "code",
   "execution_count": 19,
   "id": "810be0ec",
   "metadata": {},
   "outputs": [],
   "source": [
    "## Multiple Linear Regression\n",
    "from sklearn.linear_model import LinearRegression"
   ]
  },
  {
   "cell_type": "code",
   "execution_count": 20,
   "id": "f2a3a0b5",
   "metadata": {},
   "outputs": [
    {
     "data": {
      "text/plain": [
       "LinearRegression()"
      ]
     },
     "execution_count": 20,
     "metadata": {},
     "output_type": "execute_result"
    }
   ],
   "source": [
    "lr = LinearRegression()\n",
    "lr.fit(x_train, y_train)"
   ]
  },
  {
   "cell_type": "code",
   "execution_count": 21,
   "id": "2f5e5275",
   "metadata": {},
   "outputs": [
    {
     "name": "stdout",
     "output_type": "stream",
     "text": [
      "[[448.44 443.31]\n",
      " [475.09 490.96]\n",
      " [478.15 483.94]\n",
      " ...\n",
      " [439.09 435.06]\n",
      " [469.58 471.13]\n",
      " [469.7  472.43]]\n"
     ]
    }
   ],
   "source": [
    "# Linear regression predict\n",
    "y_lr_pred = lr.predict(x_train)\n",
    "np.set_printoptions(precision =2)\n",
    "print(np.concatenate((y_lr_pred.reshape(len(y_lr_pred), 1), y_train.values.reshape(len(y_train), 1)), 1))"
   ]
  },
  {
   "cell_type": "code",
   "execution_count": 22,
   "id": "828eb9f7",
   "metadata": {},
   "outputs": [
    {
     "data": {
      "text/plain": [
       "0.93"
      ]
     },
     "execution_count": 22,
     "metadata": {},
     "output_type": "execute_result"
    }
   ],
   "source": [
    "from sklearn.metrics import r2_score\n",
    "sc_1 = r2_score(y_train, y_lr_pred).round(2)\n",
    "sc_1"
   ]
  },
  {
   "cell_type": "code",
   "execution_count": 23,
   "id": "7c678d88",
   "metadata": {},
   "outputs": [
    {
     "data": {
      "text/plain": [
       "4.57"
      ]
     },
     "execution_count": 23,
     "metadata": {},
     "output_type": "execute_result"
    }
   ],
   "source": [
    "from sklearn.metrics import mean_squared_error\n",
    "y_lr_mse = mean_squared_error(y_train, y_lr_pred)\n",
    "y_lr_rmse = np.sqrt(y_lr_mse).round(2)\n",
    "y_lr_rmse"
   ]
  },
  {
   "cell_type": "code",
   "execution_count": null,
   "id": "ff1b9fdd",
   "metadata": {},
   "outputs": [],
   "source": []
  },
  {
   "cell_type": "code",
   "execution_count": null,
   "id": "eb9f1763",
   "metadata": {},
   "outputs": [],
   "source": []
  },
  {
   "cell_type": "code",
   "execution_count": 24,
   "id": "39324b0c",
   "metadata": {},
   "outputs": [],
   "source": [
    "# Polynomial Regression "
   ]
  },
  {
   "cell_type": "code",
   "execution_count": 25,
   "id": "6121e21a",
   "metadata": {},
   "outputs": [],
   "source": [
    "from sklearn.preprocessing import PolynomialFeatures\n",
    "poly = PolynomialFeatures(degree = 2)"
   ]
  },
  {
   "cell_type": "code",
   "execution_count": 26,
   "id": "bcec337e",
   "metadata": {},
   "outputs": [],
   "source": [
    "x_poly = poly.fit_transform(x_train)"
   ]
  },
  {
   "cell_type": "code",
   "execution_count": 27,
   "id": "d42d9799",
   "metadata": {},
   "outputs": [
    {
     "data": {
      "text/plain": [
       "LinearRegression()"
      ]
     },
     "execution_count": 27,
     "metadata": {},
     "output_type": "execute_result"
    }
   ],
   "source": [
    "pr = LinearRegression()\n",
    "pr.fit(x_poly, y_train)"
   ]
  },
  {
   "cell_type": "code",
   "execution_count": 28,
   "id": "45175b62",
   "metadata": {},
   "outputs": [
    {
     "name": "stdout",
     "output_type": "stream",
     "text": [
      "[[447.73 443.31]\n",
      " [474.72 490.96]\n",
      " [479.81 483.94]\n",
      " ...\n",
      " [439.37 435.06]\n",
      " [470.38 471.13]\n",
      " [470.33 472.43]]\n"
     ]
    }
   ],
   "source": [
    "y_pr_pred = pr.predict(x_poly)\n",
    "np.set_printoptions(precision =2)\n",
    "print(np.concatenate((y_pr_pred.reshape(len(y_pr_pred), 1), y_train.values.reshape(len(y_train), 1)), 1))"
   ]
  },
  {
   "cell_type": "code",
   "execution_count": 29,
   "id": "2d8918f6",
   "metadata": {},
   "outputs": [
    {
     "data": {
      "text/plain": [
       "0.94"
      ]
     },
     "execution_count": 29,
     "metadata": {},
     "output_type": "execute_result"
    }
   ],
   "source": [
    "sc_2 = r2_score(y_train, y_pr_pred).round(2)\n",
    "sc_2"
   ]
  },
  {
   "cell_type": "code",
   "execution_count": 30,
   "id": "70a5ba9d",
   "metadata": {},
   "outputs": [
    {
     "data": {
      "text/plain": [
       "4.26"
      ]
     },
     "execution_count": 30,
     "metadata": {},
     "output_type": "execute_result"
    }
   ],
   "source": [
    "y_pr_mse = mean_squared_error(y_train, y_pr_pred)\n",
    "y_pr_rmse = np.sqrt(y_pr_mse).round(2)\n",
    "y_pr_rmse"
   ]
  },
  {
   "cell_type": "code",
   "execution_count": null,
   "id": "d494436a",
   "metadata": {},
   "outputs": [],
   "source": []
  },
  {
   "cell_type": "code",
   "execution_count": null,
   "id": "f2c34c9c",
   "metadata": {},
   "outputs": [],
   "source": []
  },
  {
   "cell_type": "code",
   "execution_count": 31,
   "id": "8b0c2727",
   "metadata": {},
   "outputs": [
    {
     "data": {
      "text/plain": [
       "SVR()"
      ]
     },
     "execution_count": 31,
     "metadata": {},
     "output_type": "execute_result"
    }
   ],
   "source": [
    "## Support Vector Regression\n",
    "from sklearn.svm import SVR\n",
    "svr = SVR(kernel = 'rbf')\n",
    "svr.fit(x_train, y_train)"
   ]
  },
  {
   "cell_type": "code",
   "execution_count": 32,
   "id": "f92bf271",
   "metadata": {},
   "outputs": [],
   "source": [
    "y_svr_pred = svr.predict(x_train)"
   ]
  },
  {
   "cell_type": "code",
   "execution_count": 33,
   "id": "d183093c",
   "metadata": {},
   "outputs": [
    {
     "name": "stdout",
     "output_type": "stream",
     "text": [
      "[[447.22 443.31]\n",
      " [475.68 490.96]\n",
      " [481.16 483.94]\n",
      " ...\n",
      " [437.41 435.06]\n",
      " [472.04 471.13]\n",
      " [469.81 472.43]]\n"
     ]
    }
   ],
   "source": [
    "np.set_printoptions(precision =2)\n",
    "print(np.concatenate((y_svr_pred.reshape(len(y_svr_pred), 1), y_train.values.reshape(len(y_train), 1)), 1))"
   ]
  },
  {
   "cell_type": "code",
   "execution_count": 34,
   "id": "73667483",
   "metadata": {},
   "outputs": [
    {
     "data": {
      "text/plain": [
       "0.94"
      ]
     },
     "execution_count": 34,
     "metadata": {},
     "output_type": "execute_result"
    }
   ],
   "source": [
    "\n",
    "sc_4 = r2_score(y_train, y_svr_pred).round(2)\n",
    "sc_4"
   ]
  },
  {
   "cell_type": "code",
   "execution_count": 35,
   "id": "d870c774",
   "metadata": {},
   "outputs": [
    {
     "data": {
      "text/plain": [
       "4.15"
      ]
     },
     "execution_count": 35,
     "metadata": {},
     "output_type": "execute_result"
    }
   ],
   "source": [
    "y_svr_mse = mean_squared_error(y_train, y_svr_pred)\n",
    "y_svr_rmse = np.sqrt(y_svr_mse).round(2)\n",
    "y_svr_rmse"
   ]
  },
  {
   "cell_type": "code",
   "execution_count": null,
   "id": "68cd26be",
   "metadata": {},
   "outputs": [],
   "source": []
  },
  {
   "cell_type": "code",
   "execution_count": null,
   "id": "85106b42",
   "metadata": {},
   "outputs": [],
   "source": []
  },
  {
   "cell_type": "code",
   "execution_count": 36,
   "id": "fa22fe46",
   "metadata": {},
   "outputs": [],
   "source": [
    "## Random Forest Regression\n",
    "from sklearn.ensemble import RandomForestRegressor\n",
    "rfr = RandomForestRegressor()"
   ]
  },
  {
   "cell_type": "code",
   "execution_count": 37,
   "id": "eb54661c",
   "metadata": {},
   "outputs": [
    {
     "data": {
      "text/plain": [
       "RandomForestRegressor()"
      ]
     },
     "execution_count": 37,
     "metadata": {},
     "output_type": "execute_result"
    }
   ],
   "source": [
    "rfr.fit(x_train, y_train)"
   ]
  },
  {
   "cell_type": "code",
   "execution_count": 38,
   "id": "a89193fc",
   "metadata": {},
   "outputs": [],
   "source": [
    "y_rfr_pred = rfr.predict(x_train)"
   ]
  },
  {
   "cell_type": "code",
   "execution_count": 39,
   "id": "2ef5fb87",
   "metadata": {
    "scrolled": false
   },
   "outputs": [
    {
     "name": "stdout",
     "output_type": "stream",
     "text": [
      "[[444.24 443.31]\n",
      " [489.57 490.96]\n",
      " [483.11 483.94]\n",
      " ...\n",
      " [435.33 435.06]\n",
      " [469.97 471.13]\n",
      " [473.2  472.43]]\n"
     ]
    }
   ],
   "source": [
    "np.set_printoptions(precision =2)\n",
    "print(np.concatenate((y_rfr_pred.reshape(len(y_rfr_pred), 1), y_train.values.reshape(len(y_train), 1)), 1))"
   ]
  },
  {
   "cell_type": "code",
   "execution_count": 40,
   "id": "bad7fd23",
   "metadata": {},
   "outputs": [
    {
     "data": {
      "text/plain": [
       "0.99"
      ]
     },
     "execution_count": 40,
     "metadata": {},
     "output_type": "execute_result"
    }
   ],
   "source": [
    "sc_5 = r2_score(y_train, y_rfr_pred).round(2)\n",
    "sc_5"
   ]
  },
  {
   "cell_type": "code",
   "execution_count": 41,
   "id": "5a849704",
   "metadata": {},
   "outputs": [
    {
     "data": {
      "text/plain": [
       "1.26"
      ]
     },
     "execution_count": 41,
     "metadata": {},
     "output_type": "execute_result"
    }
   ],
   "source": [
    "y_rfr_mse = mean_squared_error(y_train, y_rfr_pred)\n",
    "y_rfr_rmse = np.sqrt(y_rfr_mse).round(2)\n",
    "y_rfr_rmse"
   ]
  },
  {
   "cell_type": "code",
   "execution_count": null,
   "id": "a96a84bd",
   "metadata": {},
   "outputs": [],
   "source": []
  },
  {
   "cell_type": "markdown",
   "id": "10fd4a4a",
   "metadata": {},
   "source": [
    "## Model Evaluation"
   ]
  },
  {
   "cell_type": "markdown",
   "id": "aeaa7b17",
   "metadata": {},
   "source": [
    "The root mean squared error (RMSE) and the r2_score of the various models were the metrics used for evaluation. The results are shown in the Summary table and sorted in descending order of error."
   ]
  },
  {
   "cell_type": "code",
   "execution_count": 42,
   "id": "a028601e",
   "metadata": {},
   "outputs": [],
   "source": [
    "Summary = pd.DataFrame()"
   ]
  },
  {
   "cell_type": "code",
   "execution_count": 43,
   "id": "e28df3ac",
   "metadata": {},
   "outputs": [],
   "source": [
    "Summary['Model'] = ['Linear Regression', 'Polynomial Regression', 'Support Vector', 'Random Forest']\n",
    "Summary['R2'] = ([sc_1, sc_2, sc_4, sc_5])\n",
    "Summary['Error'] = ([y_lr_rmse, y_pr_rmse, y_svr_rmse, y_rfr_rmse])"
   ]
  },
  {
   "cell_type": "code",
   "execution_count": 44,
   "id": "00ac4ae8",
   "metadata": {
    "scrolled": true
   },
   "outputs": [
    {
     "data": {
      "text/html": [
       "<div>\n",
       "<style scoped>\n",
       "    .dataframe tbody tr th:only-of-type {\n",
       "        vertical-align: middle;\n",
       "    }\n",
       "\n",
       "    .dataframe tbody tr th {\n",
       "        vertical-align: top;\n",
       "    }\n",
       "\n",
       "    .dataframe thead th {\n",
       "        text-align: right;\n",
       "    }\n",
       "</style>\n",
       "<table border=\"1\" class=\"dataframe\">\n",
       "  <thead>\n",
       "    <tr style=\"text-align: right;\">\n",
       "      <th></th>\n",
       "      <th>Model</th>\n",
       "      <th>R2</th>\n",
       "      <th>Error</th>\n",
       "    </tr>\n",
       "  </thead>\n",
       "  <tbody>\n",
       "    <tr>\n",
       "      <th>0</th>\n",
       "      <td>Linear Regression</td>\n",
       "      <td>0.93</td>\n",
       "      <td>4.57</td>\n",
       "    </tr>\n",
       "    <tr>\n",
       "      <th>1</th>\n",
       "      <td>Polynomial Regression</td>\n",
       "      <td>0.94</td>\n",
       "      <td>4.26</td>\n",
       "    </tr>\n",
       "    <tr>\n",
       "      <th>2</th>\n",
       "      <td>Support Vector</td>\n",
       "      <td>0.94</td>\n",
       "      <td>4.15</td>\n",
       "    </tr>\n",
       "    <tr>\n",
       "      <th>3</th>\n",
       "      <td>Random Forest</td>\n",
       "      <td>0.99</td>\n",
       "      <td>1.26</td>\n",
       "    </tr>\n",
       "  </tbody>\n",
       "</table>\n",
       "</div>"
      ],
      "text/plain": [
       "                   Model    R2  Error\n",
       "0      Linear Regression  0.93   4.57\n",
       "1  Polynomial Regression  0.94   4.26\n",
       "2         Support Vector  0.94   4.15\n",
       "3          Random Forest  0.99   1.26"
      ]
     },
     "execution_count": 44,
     "metadata": {},
     "output_type": "execute_result"
    }
   ],
   "source": [
    "Summary.sort_values(by = ['Error'], ascending = False, inplace = True)\n",
    "Summary"
   ]
  },
  {
   "cell_type": "code",
   "execution_count": null,
   "id": "e9015885",
   "metadata": {},
   "outputs": [],
   "source": []
  },
  {
   "cell_type": "code",
   "execution_count": null,
   "id": "caa03725",
   "metadata": {},
   "outputs": [],
   "source": []
  },
  {
   "cell_type": "code",
   "execution_count": 45,
   "id": "d73a615b",
   "metadata": {},
   "outputs": [],
   "source": [
    "# Feature Importance"
   ]
  },
  {
   "cell_type": "code",
   "execution_count": 46,
   "id": "00f7386d",
   "metadata": {},
   "outputs": [],
   "source": [
    "x_train_ = pd.DataFrame(x_train, columns = ['AT', 'V', 'AP','RH'])"
   ]
  },
  {
   "cell_type": "markdown",
   "id": "f9610847",
   "metadata": {},
   "source": [
    "\n",
    "The random forest model was chosen as the final model to be used as it had the lowest error and highest r2_score. The most important factor in the model was also observed to be the ambient temperature.\n"
   ]
  },
  {
   "cell_type": "code",
   "execution_count": 47,
   "id": "37c8e9ef",
   "metadata": {},
   "outputs": [
    {
     "data": {
      "image/png": "[encoded data removed]",
      "text/plain": [
       "<Figure size 792x360 with 1 Axes>"
      ]
     },
     "metadata": {},
     "output_type": "display_data"
    }
   ],
   "source": [
    "feat_imp = pd.Series(rfr.feature_importances_, index = x_train_.columns)\n",
    "plt.figure(figsize = (11,5))\n",
    "feat_imp.nlargest(10).plot(kind = \"barh\")\n",
    "plt.show()"
   ]
  },
  {
   "cell_type": "code",
   "execution_count": null,
   "id": "aae4df0d",
   "metadata": {},
   "outputs": [],
   "source": []
  },
  {
   "cell_type": "markdown",
   "id": "4dae944d",
   "metadata": {},
   "source": [
    "## Final Model Evaluation"
   ]
  },
  {
   "cell_type": "code",
   "execution_count": 48,
   "id": "83666f39",
   "metadata": {},
   "outputs": [
    {
     "data": {
      "text/plain": [
       "0.96"
      ]
     },
     "execution_count": 48,
     "metadata": {},
     "output_type": "execute_result"
    }
   ],
   "source": [
    "## Use test data on model with highest accuracy and lowest error - Random Forest\n",
    "y_hat = rfr.predict(x_test)\n",
    "sc_f = r2_score(y_hat, y_test).round(2)\n",
    "sc_f"
   ]
  },
  {
   "cell_type": "code",
   "execution_count": 49,
   "id": "71884e3d",
   "metadata": {},
   "outputs": [
    {
     "data": {
      "text/plain": [
       "3.24"
      ]
     },
     "execution_count": 49,
     "metadata": {},
     "output_type": "execute_result"
    }
   ],
   "source": [
    "y_hat_mse = mean_squared_error(y_test, y_hat)\n",
    "y_hat_rmse = np.sqrt(y_hat_mse).round(2)\n",
    "y_hat_rmse"
   ]
  },
  {
   "cell_type": "markdown",
   "id": "405ae6fc",
   "metadata": {},
   "source": [
    "The Random Forest Regression model was evaluated on the test data and achieved an r2_score of 0.96 and error of 3.24"
   ]
  }
 ],
 "metadata": {
  "kernelspec": {
   "display_name": "Python 3",
   "language": "python",
   "name": "python3"
  },
  "language_info": {
   "codemirror_mode": {
    "name": "ipython",
    "version": 3
   },
   "file_extension": ".py",
   "mimetype": "text/x-python",
   "name": "python",
   "nbconvert_exporter": "python",
   "pygments_lexer": "ipython3",
   "version": "3.8.8"
  }
 },
 "nbformat": 4,
 "nbformat_minor": 5
}
